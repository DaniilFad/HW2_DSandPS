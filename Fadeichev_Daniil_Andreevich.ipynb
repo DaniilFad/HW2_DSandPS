{
 "cells": [
  {
   "cell_type": "markdown",
   "metadata": {},
   "source": [
    "### Основные операторы PostgreSQL."
   ]
  },
  {
   "cell_type": "markdown",
   "metadata": {},
   "source": [
    "#### Задание ####\n",
    "\n",
    "1) Вывести все уникальные бренды, у которых стандартная стоимость выше 1500 долларов.\n",
    "2) Вывести все подтвержденные транзакции за период '2017-04-01' по '2017-04-09' включительно.\n",
    "3) Вывести все профессии у клиентов из сферы IT или Financial Services, которые начинаются с фразы 'Senior'.\n",
    "4) Вывести все бренды, которые закупают клиенты, работающие в сфере Financial Services.\n",
    "5) Вывести 10 клиентов, которые оформили онлайн-заказ продукции из брендов 'Giant Bicycles', 'Norco Bicycles', 'Trek Bicycles'.\n",
    "6) Вывести всех клиентов, у которых нет транзакций.\n",
    "7) Вывести всех клиентов из IT, у которых транзакции с максимальной стандартной стоимостью.\n",
    "8) Вывести всех клиентов из сферы IT и Health, у которых есть подтвержденные транзакции за период '2017-07-07' по '2017-07-17'."
   ]
  },
  {
   "cell_type": "markdown",
   "metadata": {},
   "source": [
    "Так как в первом домашнем задании мы уже работали с этими данными и улучшили их структуру, я буду использовать созданную мной схему, а не исходную. Это кажется мне более логичным и правильным решением."
   ]
  },
  {
   "cell_type": "markdown",
   "metadata": {},
   "source": [
    "![title](Схема_0.png)"
   ]
  },
  {
   "cell_type": "markdown",
   "metadata": {},
   "source": [
    "Поскольку некоторые задания имеют неоднозначную формулировку, я буду предварительно описывать, как именно я их интерпретировал."
   ]
  },
  {
   "cell_type": "markdown",
   "metadata": {},
   "source": [
    "#### 1. Вывести все уникальные бренды, у которых стандартная стоимость выше 1500 долларов. ####"
   ]
  },
  {
   "cell_type": "markdown",
   "metadata": {},
   "source": [
    "В этом задании указано вывести только столбец с уникальными брендами, чья стоимость превышает 1500$. Цена не выводится, так как это не требуется по условию."
   ]
  },
  {
   "cell_type": "markdown",
   "metadata": {},
   "source": [
    "~~~~sql\n",
    "SELECT DISTINCT brand\n",
    "\tFROM products\n",
    "\tWHERE standard_cost > 1500;\n",
    "~~~~"
   ]
  },
  {
   "cell_type": "markdown",
   "metadata": {},
   "source": [
    "![title](Схема_1.png)"
   ]
  },
  {
   "cell_type": "markdown",
   "metadata": {},
   "source": [
    "#### 2. Вывести все подтвержденные транзакции за период '2017-04-01' по '2017-04-09' включительно. ####"
   ]
  },
  {
   "cell_type": "markdown",
   "metadata": {},
   "source": [
    "Какие данные относятся к транзакции, я определил ещё в первом домашнем задании, поместив их в таблицу **transactions**. Это следующие столбцы: \n",
    "- transaction_id PK (Уникальный id транзакции), \n",
    "- customer_id FK (id клиента, который совершает транзакцию), \n",
    "- product_new_id FK (id продукта, который покупает клиент), \n",
    "- transaction_date (дата транзакции), \n",
    "- online_order (признак того была ли проведена транзакция онлайн), \n",
    "- order_status (статус заказа), \n",
    "- list_price (цена продажи).\n",
    "\n",
    "Поэтому я выберу именно их, с учётом ограничений: подтверждение транзакции и период с 1 по 9 апреля 2017 года включительно."
   ]
  },
  {
   "cell_type": "markdown",
   "metadata": {},
   "source": [
    "~~~~sql\n",
    "SELECT * \n",
    "\tFROM transactions\n",
    "\tWHERE (transaction_date >= '2017-04-01') \n",
    "\t\tAND (transaction_date <= '2017-04-09')\n",
    "\t\tAND (order_status = 'Approved');\n",
    "~~~~"
   ]
  },
  {
   "cell_type": "markdown",
   "metadata": {},
   "source": [
    "![title](Схема_2.png)"
   ]
  },
  {
   "cell_type": "markdown",
   "metadata": {},
   "source": [
    "#### 3. Вывести все профессии у клиентов из сферы IT или Financial Services, которые начинаются с фразы 'Senior'. ####"
   ]
  },
  {
   "cell_type": "markdown",
   "metadata": {},
   "source": [
    "В этом задании указано вывести только столбец с профессиями, которые начинаются с фразы 'Senior' из сферы IT или Financial Service. Само название сферы не выводится, так как это не требуется по условию. Если профессия пренадлежит и к одной и другой сфере, она выводится один раз, не дублируясь."
   ]
  },
  {
   "cell_type": "markdown",
   "metadata": {},
   "source": [
    "~~~~sql\n",
    "SELECT DISTINCT job_title\n",
    "\tFROM job_categories\n",
    "\tWHERE (job_title LIKE 'Senior%') \n",
    "\t\tAND ((job_industry_category = 'IT') OR (job_industry_category = 'Financial Services'));\n",
    "~~~~"
   ]
  },
  {
   "cell_type": "markdown",
   "metadata": {},
   "source": [
    "![title](Схема_3.png)"
   ]
  },
  {
   "cell_type": "markdown",
   "metadata": {},
   "source": [
    "#### 4. Вывести все бренды, которые закупают клиенты, работающие в сфере Financial Services. ####"
   ]
  },
  {
   "cell_type": "markdown",
   "metadata": {},
   "source": [
    "В этом задании указано вывести только столбец с брендами, которые закупают клиенты из сферы Financial Service."
   ]
  },
  {
   "cell_type": "markdown",
   "metadata": {},
   "source": [
    "~~~~sql\n",
    "SELECT DISTINCT brand\n",
    "    FROM products\n",
    "        INNER JOIN transactions ON products.product_new_id = transactions.product_new_id\n",
    "        INNER JOIN customers ON customers.customer_id = transactions.customer_id\n",
    "        INNER JOIN job_categories ON job_categories.job_id = customers.job_id\n",
    "    WHERE job_categories.job_industry_category = 'Financial Services';\n",
    "~~~~"
   ]
  },
  {
   "cell_type": "markdown",
   "metadata": {},
   "source": [
    "![title](Схема_4.png)"
   ]
  },
  {
   "cell_type": "markdown",
   "metadata": {},
   "source": [
    "#### 5. Вывести 10 клиентов, которые оформили онлайн-заказ продукции из брендов 'Giant Bicycles', 'Norco Bicycles', 'Trek Bicycles'. ####"
   ]
  },
  {
   "cell_type": "markdown",
   "metadata": {},
   "source": [
    "Какие данные относятся к характеристике клиента, я определил ещё в первом домашнем задании, поместив их в таблицу **customers**. Это следующие столбцы: \n",
    "- customer_id PK (Уникальный id клиента)\n",
    "- first_name (Имя)\n",
    "- last_name (Фамилия)\n",
    "- gender (пол)\n",
    "- DOB (дата рождения)\n",
    "- wealth_segment (сегмент благосостояния)\n",
    "- deceased_indicator (флаг, жив клиент или мертв)\n",
    "- own_car (владеет ли машиной)\n",
    "- address_id FK (Уникальный id адреса)\n",
    "- job_id FK (Уникальный id должности)\n",
    "\n",
    "В этом задании не совсем ясно, нужно ли вывести клиентов, закупавших продукцию всех трёх брендов или хотя бы одного из них. Я решил, что требуется найти клиентов, совершавших онлайн-покупки у всех трёх брендов. Выполнил это и вывел первых 10 таких клиентов."
   ]
  },
  {
   "cell_type": "markdown",
   "metadata": {},
   "source": [
    "~~~~sql\n",
    "SELECT DISTINCT customers.*\n",
    "\tFROM products\n",
    "\t\tINNER JOIN transactions ON products.product_new_id = transactions.product_new_id\n",
    "\t\tINNER JOIN customers ON customers.customer_id = transactions.customer_id\n",
    "\tWHERE brand IN ('Giant Bicycles', 'Norco Bicycles', 'Trek Bicycles')\n",
    "\t\tAND (transactions.online_order = TRUE)\n",
    "\tGROUP BY customers.customer_id\n",
    "\tHAVING COUNT(DISTINCT brand) = 3\n",
    "\tLIMIT 10;\n",
    "~~~~"
   ]
  },
  {
   "cell_type": "markdown",
   "metadata": {},
   "source": [
    "![title](Схема_5.png)"
   ]
  },
  {
   "cell_type": "markdown",
   "metadata": {},
   "source": [
    "#### 6. Вывести всех клиентов, у которых нет транзакций. ####"
   ]
  },
  {
   "cell_type": "markdown",
   "metadata": {},
   "source": [
    "Какие данные относятся к характеристике клиента, я определил ещё в первом домашнем задании, поместив их в таблицу **customers**. Это следующие столбцы: \n",
    "- customer_id PK (Уникальный id клиента)\n",
    "- first_name (Имя)\n",
    "- last_name (Фамилия)\n",
    "- gender (пол)\n",
    "- DOB (дата рождения)\n",
    "- wealth_segment (сегмент благосостояния)\n",
    "- deceased_indicator (флаг, жив клиент или мертв)\n",
    "- own_car (владеет ли машиной)\n",
    "- address_id FK (Уникальный id адреса)\n",
    "- job_id FK (Уникальный id должности)\n",
    "\n",
    "Требуется найти таких клиентов, которые не упоминаются в таблице **transactions**."
   ]
  },
  {
   "cell_type": "markdown",
   "metadata": {},
   "source": [
    "~~~~sql\n",
    "SELECT customers.*\n",
    "\tFROM customers\n",
    "\t\tLEFT JOIN transactions ON customers.customer_id = transactions.customer_id\n",
    "\t\tWHERE transactions.customer_id IS NULL\n",
    "~~~~"
   ]
  },
  {
   "cell_type": "markdown",
   "metadata": {},
   "source": [
    "![title](Схема_6.png)"
   ]
  },
  {
   "cell_type": "markdown",
   "metadata": {},
   "source": [
    "#### 7. Вывести всех клиентов из IT, у которых транзакции с максимальной стандартной стоимостью. ####"
   ]
  },
  {
   "cell_type": "markdown",
   "metadata": {},
   "source": [
    "Какие данные относятся к характеристике клиента, я определил ещё в первом домашнем задании, поместив их в таблицу **customers**. Это следующие столбцы: \n",
    "- customer_id PK (Уникальный id клиента)\n",
    "- first_name (Имя)\n",
    "- last_name (Фамилия)\n",
    "- gender (пол)\n",
    "- DOB (дата рождения)\n",
    "- wealth_segment (сегмент благосостояния)\n",
    "- deceased_indicator (флаг, жив клиент или мертв)\n",
    "- own_car (владеет ли машиной)\n",
    "- address_id FK (Уникальный id адреса)\n",
    "- job_id FK (Уникальный id должности)\n",
    "\n",
    "\n",
    "Требуется найти таких клиентов из сферы IT, которые покупали продукт с самой большой себестоймостю."
   ]
  },
  {
   "cell_type": "markdown",
   "metadata": {},
   "source": [
    "~~~~sql\n",
    "SELECT DISTINCT customers.*\n",
    "\tFROM customers\n",
    "\t\tINNER JOIN transactions ON customers.customer_id = transactions.customer_id\n",
    "\t\tINNER JOIN job_categories ON customers.job_id = job_categories.job_id\n",
    "\t\tINNER JOIN products ON products.product_new_id = transactions.product_new_id\n",
    "\tWHERE (job_categories.job_industry_category = 'IT') \n",
    "\t\tAND products.standard_cost = (\n",
    "\t\t\tSELECT MAX(standard_cost) FROM products\n",
    "\t\t);\n",
    "~~~~"
   ]
  },
  {
   "cell_type": "markdown",
   "metadata": {},
   "source": [
    "![title](Схема_7.png)"
   ]
  },
  {
   "cell_type": "markdown",
   "metadata": {},
   "source": [
    "#### 8. Вывести всех клиентов из сферы IT и Health, у которых есть подтвержденные транзакции за период '2017-07-07' по '2017-07-17'. ####"
   ]
  },
  {
   "cell_type": "markdown",
   "metadata": {},
   "source": [
    "Какие данные относятся к характеристике клиента, я определил ещё в первом домашнем задании, поместив их в таблицу **customers**. Это следующие столбцы: \n",
    "- customer_id PK (Уникальный id клиента)\n",
    "- first_name (Имя)\n",
    "- last_name (Фамилия)\n",
    "- gender (пол)\n",
    "- DOB (дата рождения)\n",
    "- wealth_segment (сегмент благосостояния)\n",
    "- deceased_indicator (флаг, жив клиент или мертв)\n",
    "- own_car (владеет ли машиной)\n",
    "- address_id FK (Уникальный id адреса)\n",
    "- job_id FK (Уникальный id должности)\n",
    "\n",
    "\n",
    "Требуется найти таких клиентов из сферы IT или Health, которые совершали подтвержденные транзакции с 7 июля 2017 по 17 июля 2017. Я сделал включительно, поскольку мне показалось это логичным, хоть уточнения и не было."
   ]
  },
  {
   "cell_type": "markdown",
   "metadata": {},
   "source": [
    "![title](Схема_8.png)"
   ]
  }
 ],
 "metadata": {
  "kernelspec": {
   "display_name": "Python 3",
   "language": "python",
   "name": "python3"
  },
  "language_info": {
   "codemirror_mode": {
    "name": "ipython",
    "version": 3
   },
   "file_extension": ".py",
   "mimetype": "text/x-python",
   "name": "python",
   "nbconvert_exporter": "python",
   "pygments_lexer": "ipython3",
   "version": "3.10.11"
  }
 },
 "nbformat": 4,
 "nbformat_minor": 2
}
